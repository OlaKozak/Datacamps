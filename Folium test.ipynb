{
 "cells": [
  {
   "cell_type": "code",
   "execution_count": 19,
   "metadata": {},
   "outputs": [],
   "source": [
    "import pgeocode\n",
    "import folium"
   ]
  },
  {
   "cell_type": "markdown",
   "metadata": {},
   "source": [
    "TODO\n",
    "1. Adding/ deleting inputs\n",
    "2. Storage of data\n",
    "3. What information do we want from giver?\n",
    "4. What do we want to present?\n",
    "5. Filters\n",
    "6. Interface"
   ]
  },
  {
   "cell_type": "code",
   "execution_count": 15,
   "metadata": {},
   "outputs": [],
   "source": [
    "#Mapping from postal codes to coordinates\n",
    "def code_to_coord(postal_code, country='pl'):\n",
    "    df= pgeocode.Nominatim(country)\n",
    "    lat = df.query_postal_code(postal_code)['latitude']\n",
    "    df= pgeocode.Nominatim(country)\n",
    "    long = df.query_postal_code(postal_code)['longitude']\n",
    "    coord =[lat,long]\n",
    "    return coord"
   ]
  },
  {
   "cell_type": "code",
   "execution_count": 21,
   "metadata": {},
   "outputs": [
    {
     "data": {
      "text/html": [
       "<div style=\"width:100%;\"><div style=\"position:relative;width:100%;height:0;padding-bottom:60%;\"><iframe src=\"data:text/html;charset=utf-8;base64,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\" style=\"position:absolute;width:100%;height:100%;left:0;top:0;border:none !important;\" allowfullscreen webkitallowfullscreen mozallowfullscreen></iframe></div></div>"
      ],
      "text/plain": [
       "<folium.folium.Map at 0x1fddb712550>"
      ]
     },
     "execution_count": 21,
     "metadata": {},
     "output_type": "execute_result"
    }
   ],
   "source": [
    "# Making a map using the folium module\n",
    "things_map = folium.Map()\n",
    "\n",
    "#To take\n",
    "things = [\n",
    "    {'loc': code_to_coord(\"80-365\"), 'label': 'Odkurzacz: dzisiaj o 18 '},\n",
    "    {'loc': code_to_coord(\"83-011\"), 'label': 'Stol: 12.10 o 9'},\n",
    "    {'loc': code_to_coord(\"80-404\"), 'label': 'Krzesla: do uzgodnienia'}] \n",
    "\n",
    "# Adding markers to the map\n",
    "for thing in things:\n",
    "    marker = folium.Marker(location=thing['loc'], popup=thing['label'])\n",
    "    marker.add_to(things_map)\n",
    "things_map"
   ]
  },
  {
   "cell_type": "code",
   "execution_count": 2,
   "metadata": {},
   "outputs": [
    {
     "data": {
      "text/plain": [
       "postal_code          80-365\n",
       "country code             PL\n",
       "place_name           Gdańsk\n",
       "state_name        Pomerania\n",
       "state_code               82\n",
       "county_name          Gdańsk\n",
       "county_code            2261\n",
       "community_name       Gdańsk\n",
       "community_code       226101\n",
       "latitude            54.4018\n",
       "longitude           18.6001\n",
       "accuracy                NaN\n",
       "Name: 0, dtype: object"
      ]
     },
     "execution_count": 2,
     "metadata": {},
     "output_type": "execute_result"
    }
   ],
   "source": [
    "nomi = pgeocode.Nominatim('pl')\n",
    "nomi.query_postal_code(\"80-365\")"
   ]
  },
  {
   "cell_type": "code",
   "execution_count": 11,
   "metadata": {},
   "outputs": [
    {
     "data": {
      "text/plain": [
       "54.4018"
      ]
     },
     "execution_count": 11,
     "metadata": {},
     "output_type": "execute_result"
    }
   ],
   "source": [
    "nomi.query_postal_code(\"80-365\")['latitude']"
   ]
  }
 ],
 "metadata": {
  "kernelspec": {
   "display_name": "Python 3",
   "language": "python",
   "name": "python3"
  },
  "language_info": {
   "codemirror_mode": {
    "name": "ipython",
    "version": 3
   },
   "file_extension": ".py",
   "mimetype": "text/x-python",
   "name": "python",
   "nbconvert_exporter": "python",
   "pygments_lexer": "ipython3",
   "version": "3.7.0"
  }
 },
 "nbformat": 4,
 "nbformat_minor": 2
}
